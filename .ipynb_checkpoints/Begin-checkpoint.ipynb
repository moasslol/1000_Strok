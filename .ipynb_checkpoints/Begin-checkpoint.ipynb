{
 "cells": [
  {
   "cell_type": "code",
   "execution_count": 20,
   "metadata": {},
   "outputs": [
    {
     "name": "stdout",
     "output_type": "stream",
     "text": [
      "Средне арифметическое =  503.5\n"
     ]
    }
   ],
   "source": [
    "def get_arithmetic(a,b):\n",
    "    C=(a+b)/2\n",
    "    return C\n",
    "a=7\n",
    "b=1000\n",
    "C=get_arithmetic(a,b)\n",
    "print('Средне арифметическое = ',C)"
   ]
  },
  {
   "cell_type": "code",
   "execution_count": 39,
   "metadata": {},
   "outputs": [
    {
     "name": "stdout",
     "output_type": "stream",
     "text": [
      "Средне геометрическое =  197.48417658131498\n"
     ]
    }
   ],
   "source": [
    "def get_geometric_mean(a,b):\n",
    "    import math\n",
    "    n=math.sqrt(a*b)\n",
    "    return n\n",
    "a1=78\n",
    "a2=500\n",
    "n=get_geometric_mean(a=a1,b=a2)\n",
    "print('Средне геометрическое = ',n)"
   ]
  },
  {
   "cell_type": "code",
   "execution_count": null,
   "metadata": {},
   "outputs": [],
   "source": []
  },
  {
   "cell_type": "code",
   "execution_count": null,
   "metadata": {},
   "outputs": [],
   "source": []
  },
  {
   "cell_type": "code",
   "execution_count": null,
   "metadata": {},
   "outputs": [],
   "source": []
  }
 ],
 "metadata": {
  "kernelspec": {
   "display_name": "Python 3",
   "language": "python",
   "name": "python3"
  },
  "language_info": {
   "codemirror_mode": {
    "name": "ipython",
    "version": 3
   },
   "file_extension": ".py",
   "mimetype": "text/x-python",
   "name": "python",
   "nbconvert_exporter": "python",
   "pygments_lexer": "ipython3",
   "version": "3.7.4"
  }
 },
 "nbformat": 4,
 "nbformat_minor": 2
}
