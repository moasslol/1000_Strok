{
 "cells": [
  {
   "cell_type": "code",
   "execution_count": null,
   "metadata": {},
   "outputs": [],
   "source": []
  },
  {
   "cell_type": "code",
   "execution_count": 19,
   "metadata": {},
   "outputs": [
    {
     "data": {
      "text/plain": [
       "-1"
      ]
     },
     "execution_count": 19,
     "metadata": {},
     "output_type": "execute_result"
    }
   ],
   "source": [
    "def get_f(a):\n",
    "    if a>0 or a==0:\n",
    "        a+=1\n",
    "        return a\n",
    "    else:\n",
    "        a=a\n",
    "        return a\n",
    "get_f(-1)"
   ]
  },
  {
   "cell_type": "code",
   "execution_count": 18,
   "metadata": {},
   "outputs": [
    {
     "data": {
      "text/plain": [
       "1"
      ]
     },
     "execution_count": 18,
     "metadata": {},
     "output_type": "execute_result"
    }
   ],
   "source": [
    "def get_f(a):\n",
    "    if a>0 or a==0:\n",
    "        a+=1\n",
    "        return a\n",
    "    else:\n",
    "        a-=2\n",
    "        return a\n",
    "get_f(0)"
   ]
  },
  {
   "cell_type": "code",
   "execution_count": 24,
   "metadata": {},
   "outputs": [
    {
     "data": {
      "text/plain": [
       "-11"
      ]
     },
     "execution_count": 24,
     "metadata": {},
     "output_type": "execute_result"
    }
   ],
   "source": [
    "def get_f(a):\n",
    "    if a>0:\n",
    "        a+=1\n",
    "        return a\n",
    "    elif a<0:\n",
    "        a-=2\n",
    "        return a\n",
    "    elif a==0:\n",
    "        a=10\n",
    "        return a\n",
    "get_f(-9)"
   ]
  },
  {
   "cell_type": "code",
   "execution_count": 31,
   "metadata": {},
   "outputs": [
    {
     "data": {
      "text/plain": [
       "3"
      ]
     },
     "execution_count": 31,
     "metadata": {},
     "output_type": "execute_result"
    }
   ],
   "source": [
    "def get_f(a,b,c):\n",
    "    k=0\n",
    "    if a>0:\n",
    "        k+=1   \n",
    "    if b>0:\n",
    "        k+=1\n",
    "    if c>0:\n",
    "        k+=1\n",
    "    return k\n",
    "        \n",
    "get_f(1,2,3)\n",
    "    \n",
    "    "
   ]
  },
  {
   "cell_type": "code",
   "execution_count": 34,
   "metadata": {},
   "outputs": [],
   "source": [
    "def get_f(a,b,c):\n",
    "    k=0\n",
    "    i=0\n",
    "    if a>0:\n",
    "        k+=1\n",
    "    else:\n",
    "        i+=1\n",
    "    if b>0:\n",
    "        k+=1\n",
    "    else:\n",
    "        i+=1\n",
    "    if c>0:\n",
    "        k+=1\n",
    "    else:\n",
    "        i+=1\n",
    "    return k,i\n"
   ]
  },
  {
   "cell_type": "code",
   "execution_count": 36,
   "metadata": {},
   "outputs": [
    {
     "data": {
      "text/plain": [
       "1"
      ]
     },
     "execution_count": 36,
     "metadata": {},
     "output_type": "execute_result"
    }
   ],
   "source": [
    "def get_f(a,b,c):\n",
    "    k=0\n",
    "    if a>0:\n",
    "        k+=1   \n",
    "    if b>0:\n",
    "        k+=1\n",
    "    if c>0:\n",
    "        k+=1\n",
    "    return k\n",
    "get_f(1,1)"
   ]
  },
  {
   "cell_type": "code",
   "execution_count": 37,
   "metadata": {},
   "outputs": [],
   "source": [
    "def get_f(a,b):\n",
    "    if a>b:\n",
    "        return a\n",
    "    else:\n",
    "        return b\n",
    "  "
   ]
  },
  {
   "cell_type": "code",
   "execution_count": null,
   "metadata": {},
   "outputs": [],
   "source": [
    "def get_f(a,b):\n",
    "    if a==b:\n",
    "        return 1\n",
    "    else:\n",
    "        return 2"
   ]
  },
  {
   "cell_type": "code",
   "execution_count": null,
   "metadata": {},
   "outputs": [],
   "source": [
    "def get_f(a,b):\n",
    "    if a>b:\n",
    "        return a,b\n",
    "    else:\n",
    "        return b,a"
   ]
  },
  {
   "cell_type": "code",
   "execution_count": 38,
   "metadata": {},
   "outputs": [],
   "source": [
    "def get_f(a,b):\n",
    "    t=0\n",
    "    if b>a:\n",
    "        t=a\n",
    "        a=b\n",
    "        b=t\n",
    "        return b,a\n",
    "    else:\n",
    "        return a,b"
   ]
  },
  {
   "cell_type": "code",
   "execution_count": 43,
   "metadata": {},
   "outputs": [
    {
     "data": {
      "text/plain": [
       "(0, 0)"
      ]
     },
     "execution_count": 43,
     "metadata": {},
     "output_type": "execute_result"
    }
   ],
   "source": [
    "def get_f(a,b):\n",
    "    if a==b:\n",
    "        a=0\n",
    "        b=0\n",
    "        return a,b\n",
    "    else:\n",
    "        a=a+b\n",
    "        b=a\n",
    "        return a,b\n",
    "get_f(-1,1)"
   ]
  },
  {
   "cell_type": "code",
   "execution_count": 49,
   "metadata": {},
   "outputs": [
    {
     "data": {
      "text/plain": [
       "(3, 3)"
      ]
     },
     "execution_count": 49,
     "metadata": {},
     "output_type": "execute_result"
    }
   ],
   "source": [
    "def get_f(a,b):\n",
    "    if a!= b:\n",
    "        if a>b:\n",
    "            b=a\n",
    "            return a,b\n",
    "        else:\n",
    "            a=b\n",
    "            return a,b\n",
    "    else:\n",
    "        a=0\n",
    "        b=0\n",
    "        return a,b\n",
    "get_f(3,2)"
   ]
  },
  {
   "cell_type": "code",
   "execution_count": null,
   "metadata": {},
   "outputs": [],
   "source": []
  }
 ],
 "metadata": {
  "kernelspec": {
   "display_name": "Python 3",
   "language": "python",
   "name": "python3"
  },
  "language_info": {
   "codemirror_mode": {
    "name": "ipython",
    "version": 3
   },
   "file_extension": ".py",
   "mimetype": "text/x-python",
   "name": "python",
   "nbconvert_exporter": "python",
   "pygments_lexer": "ipython3",
   "version": "3.7.4"
  }
 },
 "nbformat": 4,
 "nbformat_minor": 2
}
