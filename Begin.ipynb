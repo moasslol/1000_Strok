{
 "cells": [
  {
   "cell_type": "code",
   "execution_count": 82,
   "metadata": {},
   "outputs": [
    {
     "name": "stdout",
     "output_type": "stream",
     "text": [
      "Средне арифметическое =  503.5\n"
     ]
    }
   ],
   "source": [
    "def get_arithmetic(a,b):\n",
    "    C=(a+b)/2\n",
    "    return C\n",
    "a=7\n",
    "b=1000\n",
    "C=get_arithmetic(a,b)\n",
    "print('Средне арифметическое = ',format(C))"
   ]
  },
  {
   "cell_type": "code",
   "execution_count": 43,
   "metadata": {},
   "outputs": [
    {
     "name": "stdout",
     "output_type": "stream",
     "text": [
      "Средне геометрическое =  197.48\n"
     ]
    }
   ],
   "source": [
    "def get_geometric_mean(a,b):\n",
    "    import math\n",
    "    n=math.sqrt(a*b)\n",
    "    return n\n",
    "a1=78\n",
    "a2=500\n",
    "n=get_geometric_mean(a=a1,b=a2)\n",
    "print('Средне геометрическое = ',\"{0:6.2f}\".format(n))"
   ]
  },
  {
   "cell_type": "code",
   "execution_count": 76,
   "metadata": {},
   "outputs": [],
   "source": [
    "def get_sum(a,b):\n",
    "    S=a+b\n",
    "    return S\n",
    "def get_mult(a,b):\n",
    "    M=a*b\n",
    "    return M\n",
    "def get_dif(a,b):\n",
    "    D=a-b\n",
    "    return D"
   ]
  },
  {
   "cell_type": "code",
   "execution_count": 86,
   "metadata": {},
   "outputs": [
    {
     "name": "stdout",
     "output_type": "stream",
     "text": [
      "S -  25  M -  150  D -  5 N -   12.25\n"
     ]
    }
   ],
   "source": [
    "l1=15\n",
    "l2=10\n",
    "S=get_sum(a=l1, b=l2)\n",
    "M=get_mult(a=l1, b=l2)\n",
    "D=get_dif(a=l1, b=l2)\n",
    "N=get_geometric_mean(a=l1, b=l2)\n",
    "print('S - ', S, ' M - ', M, ' D - ', D, 'N - ',\"{0:6.2f}\".format(N))"
   ]
  },
  {
   "cell_type": "code",
   "execution_count": 94,
   "metadata": {},
   "outputs": [
    {
     "name": "stdout",
     "output_type": "stream",
     "text": [
      "P -  13.83\n"
     ]
    }
   ],
   "source": [
    "import math\n",
    "def get_perimeter3(a,b):\n",
    "    c=math.sqrt(a**2+b**2)\n",
    "    P=a+b+c\n",
    "    return P\n",
    "a=5\n",
    "b=3\n",
    "P=get_perimeter3(a=a,b=b)\n",
    "print('P -',\"{0:6.2f}\".format(P))\n"
   ]
  },
  {
   "cell_type": "code",
   "execution_count": 99,
   "metadata": {},
   "outputs": [
    {
     "name": "stdout",
     "output_type": "stream",
     "text": [
      "S1 -  12.56 S2 -  78.5 S3 -  65.94\n"
     ]
    }
   ],
   "source": [
    "def get_circle_P(r):\n",
    "    p=3.14\n",
    "    S=p*(r**2)\n",
    "    return S\n",
    "r1=2\n",
    "r2=5\n",
    "S1=get_circle_P(r=r1)\n",
    "S2=get_circle_P(r=r2)\n",
    "S3=S2-S1\n",
    "print('S1 - ',S1, 'S2 - ',S2 , 'S3 - ',S3)"
   ]
  },
  {
   "cell_type": "code",
   "execution_count": 103,
   "metadata": {},
   "outputs": [
    {
     "name": "stdout",
     "output_type": "stream",
     "text": [
      "r -    2.55 S -   20.38\n"
     ]
    }
   ],
   "source": [
    "def get_LineR(l):\n",
    "    p=3.14\n",
    "    r=l/(2*p)\n",
    "    return r\n",
    "l=16\n",
    "r=get_LineO(l)\n",
    "S=get_circle_P(r)\n",
    "print('r - ',\"{0:6.2f}\".format(r),'S - ',\"{0:6.2f}\".format(S))"
   ]
  },
  {
   "cell_type": "code",
   "execution_count": 106,
   "metadata": {},
   "outputs": [
    {
     "name": "stdout",
     "output_type": "stream",
     "text": [
      "D -    3.99 L -   12.53\n"
     ]
    }
   ],
   "source": [
    "import math\n",
    "def get_DiametrS(S):\n",
    "    p=3.14\n",
    "    D=math.sqrt(S/p)\n",
    "    return D\n",
    "def get_LineD(D):\n",
    "    p=3.14\n",
    "    L=p*D\n",
    "    return L\n",
    "S=50\n",
    "D=get_DiametrS(S)\n",
    "L=get_LineD(D)\n",
    "print('D - ', \"{0:6.2f}\".format(D) ,'L - ', \"{0:6.2f}\".format(L))"
   ]
  },
  {
   "cell_type": "code",
   "execution_count": 115,
   "metadata": {},
   "outputs": [
    {
     "name": "stdout",
     "output_type": "stream",
     "text": [
      "S -  16935.0\n"
     ]
    }
   ],
   "source": [
    "import math\n",
    "def get_Model(x1,x2):\n",
    "    S= math.fabs(x1-x2)\n",
    "    return S\n",
    "x1=-1046\n",
    "x2=15889\n",
    "S= get_Model(x1,x2)\n",
    "print('S - ', S)"
   ]
  },
  {
   "cell_type": "code",
   "execution_count": 114,
   "metadata": {},
   "outputs": [
    {
     "name": "stdout",
     "output_type": "stream",
     "text": [
      "AC -  11.0 BC -  24.0 S -  35.0\n"
     ]
    }
   ],
   "source": [
    "A=6\n",
    "B=-7\n",
    "C=17\n",
    "AC= get_Model(x1=A,x2=C)\n",
    "BC= get_Model(x1=B, x2=C)\n",
    "S= get_sum(a=AC, b=BC)\n",
    "print('AC - ',AC , 'BC - ',BC , 'S - ', S )"
   ]
  },
  {
   "cell_type": "code",
   "execution_count": 116,
   "metadata": {},
   "outputs": [
    {
     "name": "stdout",
     "output_type": "stream",
     "text": [
      "AB -  25.0\n"
     ]
    }
   ],
   "source": [
    "A=-15\n",
    "C=7\n",
    "B=10\n",
    "AB =get_Model(x1=A, x2=B)\n",
    "print('AB - ', AB )"
   ]
  },
  {
   "cell_type": "code",
   "execution_count": 120,
   "metadata": {},
   "outputs": [
    {
     "name": "stdout",
     "output_type": "stream",
     "text": [
      "S -  15.0  P -  18.81\n"
     ]
    }
   ],
   "source": [
    "import math\n",
    "def get_area3(a,b):\n",
    "    S=(1/2)*b*a\n",
    "    return S\n",
    "a=5\n",
    "b=6\n",
    "S=get_area3(a,b)\n",
    "P= get_perimeter3(a,b)\n",
    "print('S - ', S, ' P -',\"{0:6.2f}\".format(P))"
   ]
  },
  {
   "cell_type": "code",
   "execution_count": 124,
   "metadata": {},
   "outputs": [
    {
     "name": "stdout",
     "output_type": "stream",
     "text": [
      "S -   19.21\n"
     ]
    }
   ],
   "source": [
    "import math\n",
    "def get_distance2D(x1,x2,y2,y1):\n",
    "    S=math.sqrt(((x2-x1)**2)+((y2-y1)**2))\n",
    "    return S\n",
    "x1=7\n",
    "x2=-8\n",
    "y1=3\n",
    "y2=-9\n",
    "S= get_distance2D(x1,x2,y1,y2)\n",
    "print('S - ', \"{0:6.2f}\".format(S))\n",
    "    "
   ]
  },
  {
   "cell_type": "code",
   "execution_count": 131,
   "metadata": {
    "scrolled": true
   },
   "outputs": [
    {
     "name": "stdout",
     "output_type": "stream",
     "text": [
      "S -  <built-in method format of str object at 0x00000177D4839F30>\n"
     ]
    }
   ],
   "source": [
    "\n",
    "x1=5\n",
    "x2=6\n",
    "x3=-7\n",
    "y1=6\n",
    "y2=6\n",
    "y3=-9\n",
    "a=get_distance2D(x1,x2,y1,y2)\n",
    "b=get_distance2D(x1=x2,x2=x3,y1=y2,y2=y1)\n",
    "c=get_c(a,b)\n",
    "S=get_PStorn(a,b,c)\n",
    "print ('S - ',\"{0:6.2f}\".format)\n"
   ]
  },
  {
   "cell_type": "code",
   "execution_count": 132,
   "metadata": {},
   "outputs": [],
   "source": [
    "def get_c(a,b):\n",
    "    c=math.sqrt(a**2+b**2)\n",
    "    return c\n",
    "def get_PStorn(a,b,c):\n",
    "    p=(a+b+c)/2\n",
    "    P=math.sqrt(p*(p-a)*(p-b)*(p-c))\n",
    "    return P"
   ]
  },
  {
   "cell_type": "code",
   "execution_count": 134,
   "metadata": {},
   "outputs": [
    {
     "name": "stdout",
     "output_type": "stream",
     "text": [
      "Tc -   48.89\n"
     ]
    }
   ],
   "source": [
    "def get_Tfar(Tf):\n",
    "    Tc=(Tf-32)*5/9\n",
    "    return Tc\n",
    "Tf=120\n",
    "Tc=get_Tfar(Tf)\n",
    "print('Tc - ',\"{0:6.2f}\".format(Tc))\n"
   ]
  },
  {
   "cell_type": "code",
   "execution_count": null,
   "metadata": {},
   "outputs": [],
   "source": [
    "def get_Sboat(T1,T2,V,U):\n",
    "    S=T1*(V+U)+T2*(V-U)\n",
    "    return S"
   ]
  },
  {
   "cell_type": "code",
   "execution_count": null,
   "metadata": {},
   "outputs": [],
   "source": [
    "def get_Scar2(v,t1,t2):\n",
    "    St=v*t1+v*t2"
   ]
  },
  {
   "cell_type": "code",
   "execution_count": 136,
   "metadata": {},
   "outputs": [],
   "source": [
    "def get_LineX(a,b):\n",
    "    x=-b/a\n",
    "    return x"
   ]
  },
  {
   "cell_type": "code",
   "execution_count": 140,
   "metadata": {},
   "outputs": [
    {
     "name": "stdout",
     "output_type": "stream",
     "text": [
      "x =  -2.0  y =  0.6\n"
     ]
    }
   ],
   "source": [
    "def get_system_of_equations(a1,a2,b1,b2,c1,c2):\n",
    "    D=a1*b2-a2*b1\n",
    "    x=(c1*b2-c2*b1)/D\n",
    "    y=(a1*c2-a2*c1)/D\n",
    "    return x,y\n",
    "a1=2\n",
    "a2=3\n",
    "b1=5\n",
    "b2=10\n",
    "c1=-1\n",
    "c2=0\n",
    "x,y=get_system_of_equations(a1=a1,a2=a2,b1=b1,b2=b2,c1=c1,c2=c2)\n",
    "print('x = ',x ,' y = ',y)"
   ]
  },
  {
   "cell_type": "code",
   "execution_count": null,
   "metadata": {},
   "outputs": [],
   "source": []
  }
 ],
 "metadata": {
  "kernelspec": {
   "display_name": "Python 3",
   "language": "python",
   "name": "python3"
  },
  "language_info": {
   "codemirror_mode": {
    "name": "ipython",
    "version": 3
   },
   "file_extension": ".py",
   "mimetype": "text/x-python",
   "name": "python",
   "nbconvert_exporter": "python",
   "pygments_lexer": "ipython3",
   "version": "3.7.4"
  }
 },
 "nbformat": 4,
 "nbformat_minor": 2
}
