{
 "cells": [
  {
   "cell_type": "code",
   "execution_count": 82,
   "metadata": {},
   "outputs": [
    {
     "name": "stdout",
     "output_type": "stream",
     "text": [
      "Средне арифметическое =  503.5\n"
     ]
    }
   ],
   "source": [
    "def get_arithmetic(a,b):\n",
    "    C=(a+b)/2\n",
    "    return C\n",
    "a=7\n",
    "b=1000\n",
    "C=get_arithmetic(a,b)\n",
    "print('Средне арифметическое = ',format(C))"
   ]
  },
  {
   "cell_type": "code",
   "execution_count": 43,
   "metadata": {},
   "outputs": [
    {
     "name": "stdout",
     "output_type": "stream",
     "text": [
      "Средне геометрическое =  197.48\n"
     ]
    }
   ],
   "source": [
    "def get_geometric_mean(a,b):\n",
    "    import math\n",
    "    n=math.sqrt(a*b)\n",
    "    return n\n",
    "a1=78\n",
    "a2=500\n",
    "n=get_geometric_mean(a=a1,b=a2)\n",
    "print('Средне геометрическое = ',\"{0:6.2f}\".format(n))"
   ]
  },
  {
   "cell_type": "code",
   "execution_count": 76,
   "metadata": {},
   "outputs": [],
   "source": [
    "def get_sum(a,b):\n",
    "    S=a+b\n",
    "    return S\n",
    "def get_mult(a,b):\n",
    "    M=a*b\n",
    "    return M\n",
    "def get_dif(a,b):\n",
    "    D=a-b\n",
    "    return D"
   ]
  },
  {
   "cell_type": "code",
   "execution_count": 86,
   "metadata": {},
   "outputs": [
    {
     "name": "stdout",
     "output_type": "stream",
     "text": [
      "S -  25  M -  150  D -  5 N -   12.25\n"
     ]
    }
   ],
   "source": [
    "l1=15\n",
    "l2=10\n",
    "S=get_sum(a=l1, b=l2)\n",
    "M=get_mult(a=l1, b=l2)\n",
    "D=get_dif(a=l1, b=l2)\n",
    "N=get_geometric_mean(a=l1, b=l2)\n",
    "print('S - ', S, ' M - ', M, ' D - ', D, 'N - ',\"{0:6.2f}\".format(N))"
   ]
  },
  {
   "cell_type": "code",
   "execution_count": null,
   "metadata": {},
   "outputs": [],
   "source": []
  }
 ],
 "metadata": {
  "kernelspec": {
   "display_name": "Python 3",
   "language": "python",
   "name": "python3"
  },
  "language_info": {
   "codemirror_mode": {
    "name": "ipython",
    "version": 3
   },
   "file_extension": ".py",
   "mimetype": "text/x-python",
   "name": "python",
   "nbconvert_exporter": "python",
   "pygments_lexer": "ipython3",
   "version": "3.7.4"
  }
 },
 "nbformat": 4,
 "nbformat_minor": 2
}
