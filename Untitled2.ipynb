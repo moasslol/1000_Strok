{
 "cells": [
  {
   "cell_type": "code",
   "execution_count": null,
   "metadata": {},
   "outputs": [],
   "source": []
  },
  {
   "cell_type": "code",
   "execution_count": 19,
   "metadata": {},
   "outputs": [
    {
     "data": {
      "text/plain": [
       "-1"
      ]
     },
     "execution_count": 19,
     "metadata": {},
     "output_type": "execute_result"
    }
   ],
   "source": [
    "def get_f(a):\n",
    "    if a>0 or a==0:\n",
    "        a+=1\n",
    "        return a\n",
    "    else:\n",
    "        a=a\n",
    "        return a\n",
    "get_f(-1)"
   ]
  },
  {
   "cell_type": "code",
   "execution_count": 18,
   "metadata": {},
   "outputs": [
    {
     "data": {
      "text/plain": [
       "1"
      ]
     },
     "execution_count": 18,
     "metadata": {},
     "output_type": "execute_result"
    }
   ],
   "source": [
    "def get_f(a):\n",
    "    if a>0 or a==0:\n",
    "        a+=1\n",
    "        return a\n",
    "    else:\n",
    "        a-=2\n",
    "        return a\n",
    "get_f(0)"
   ]
  },
  {
   "cell_type": "code",
   "execution_count": 24,
   "metadata": {},
   "outputs": [
    {
     "data": {
      "text/plain": [
       "-11"
      ]
     },
     "execution_count": 24,
     "metadata": {},
     "output_type": "execute_result"
    }
   ],
   "source": [
    "def get_f(a):\n",
    "    if a>0:\n",
    "        a+=1\n",
    "        return a\n",
    "    elif a<0:\n",
    "        a-=2\n",
    "        return a\n",
    "    elif a==0:\n",
    "        a=10\n",
    "        return a\n",
    "get_f(-9)"
   ]
  },
  {
   "cell_type": "code",
   "execution_count": 31,
   "metadata": {},
   "outputs": [
    {
     "data": {
      "text/plain": [
       "3"
      ]
     },
     "execution_count": 31,
     "metadata": {},
     "output_type": "execute_result"
    }
   ],
   "source": [
    "def get_f(a,b,c):\n",
    "    k=0\n",
    "    if a>0:\n",
    "        k+=1   \n",
    "    if b>0:\n",
    "        k+=1\n",
    "    if c>0:\n",
    "        k+=1\n",
    "    return k\n",
    "        \n",
    "get_f(1,2,3)\n",
    "    \n",
    "    "
   ]
  },
  {
   "cell_type": "code",
   "execution_count": 34,
   "metadata": {},
   "outputs": [],
   "source": [
    "def get_f(a,b,c):\n",
    "    k=0\n",
    "    i=0\n",
    "    if a>0:\n",
    "        k+=1\n",
    "    else:\n",
    "        i+=1\n",
    "    if b>0:\n",
    "        k+=1\n",
    "    else:\n",
    "        i+=1\n",
    "    if c>0:\n",
    "        k+=1\n",
    "    else:\n",
    "        i+=1\n",
    "    return k,i\n"
   ]
  },
  {
   "cell_type": "code",
   "execution_count": 36,
   "metadata": {},
   "outputs": [
    {
     "data": {
      "text/plain": [
       "1"
      ]
     },
     "execution_count": 36,
     "metadata": {},
     "output_type": "execute_result"
    }
   ],
   "source": [
    "def get_f(a,b,c):\n",
    "    k=0\n",
    "    if a>0:\n",
    "        k+=1   \n",
    "    if b>0:\n",
    "        k+=1\n",
    "    if c>0:\n",
    "        k+=1\n",
    "    return k\n",
    "get_f(1,1)"
   ]
  },
  {
   "cell_type": "code",
   "execution_count": 37,
   "metadata": {},
   "outputs": [],
   "source": [
    "def get_f(a,b):\n",
    "    if a>b:\n",
    "        return a\n",
    "    else:\n",
    "        return b\n",
    "  "
   ]
  },
  {
   "cell_type": "code",
   "execution_count": null,
   "metadata": {},
   "outputs": [],
   "source": [
    "def get_f(a,b):\n",
    "    if a==b:\n",
    "        return 1\n",
    "    else:\n",
    "        return 2"
   ]
  },
  {
   "cell_type": "code",
   "execution_count": null,
   "metadata": {},
   "outputs": [],
   "source": [
    "def get_f(a,b):\n",
    "    if a>b:\n",
    "        return a,b\n",
    "    else:\n",
    "        return b,a"
   ]
  },
  {
   "cell_type": "code",
   "execution_count": 38,
   "metadata": {},
   "outputs": [],
   "source": [
    "def get_f(a,b):\n",
    "    t=0\n",
    "    if b>a:\n",
    "        t=a\n",
    "        a=b\n",
    "        b=t\n",
    "        return b,a\n",
    "    else:\n",
    "        return a,b"
   ]
  },
  {
   "cell_type": "code",
   "execution_count": 43,
   "metadata": {},
   "outputs": [
    {
     "data": {
      "text/plain": [
       "(0, 0)"
      ]
     },
     "execution_count": 43,
     "metadata": {},
     "output_type": "execute_result"
    }
   ],
   "source": [
    "def get_f(a,b):\n",
    "    if a==b:\n",
    "        a=0\n",
    "        b=0\n",
    "        return a,b\n",
    "    else:\n",
    "        a=a+b\n",
    "        b=a\n",
    "        return a,b\n",
    "get_f(-1,1)"
   ]
  },
  {
   "cell_type": "code",
   "execution_count": 4,
   "metadata": {},
   "outputs": [
    {
     "data": {
      "text/plain": [
       "(0, 0)"
      ]
     },
     "execution_count": 4,
     "metadata": {},
     "output_type": "execute_result"
    }
   ],
   "source": [
    "def get_f(a,b):\n",
    "    if a!= b:\n",
    "        a=b=max(a,b)\n",
    "    else:\n",
    "        a=b=0\n",
    "    return a,b\n",
    "get_f(7,7)"
   ]
  },
  {
   "cell_type": "code",
   "execution_count": 11,
   "metadata": {},
   "outputs": [],
   "source": [
    "def get_m(a,b,c):\n",
    "    m=0\n",
    "    if a>b:\n",
    "        m=b\n",
    "    else:\n",
    "        m=a\n",
    "    if m>c:\n",
    "        m=c\n",
    "    return m"
   ]
  },
  {
   "cell_type": "code",
   "execution_count": 12,
   "metadata": {},
   "outputs": [
    {
     "data": {
      "text/plain": [
       "1"
      ]
     },
     "execution_count": 12,
     "metadata": {},
     "output_type": "execute_result"
    }
   ],
   "source": [
    "def get_f(x1,x2,x3,x4,x5,x6):\n",
    "    m1=0\n",
    "    m2=0\n",
    "    m3=0\n",
    "    if x1>x2:\n",
    "        m1=x2\n",
    "    else:\n",
    "        m1=x1\n",
    "    if x3>x4:\n",
    "        m2=x4\n",
    "    else:\n",
    "        m2=x3\n",
    "    if x5>x6:\n",
    "        m3=x6\n",
    "    else:\n",
    "        m3=x5\n",
    "    return get_m(m1,m2,m3)\n",
    "    \n",
    "get_f(1,7,5,8,9,1)"
   ]
  },
  {
   "cell_type": "code",
   "execution_count": 22,
   "metadata": {},
   "outputs": [
    {
     "data": {
      "text/plain": [
       "1"
      ]
     },
     "execution_count": 22,
     "metadata": {},
     "output_type": "execute_result"
    }
   ],
   "source": [
    "def get_middle(a,b,c):\n",
    "    mid=0\n",
    "    if (a>=b and b>=c) or (b>=a and b<=c):\n",
    "        mid=b\n",
    "    elif (b>=a and a<=c) or (b<=a and a>=c):\n",
    "        mid=a\n",
    "    elif (a>=c and c<=b) or (a<=c and c>=b):\n",
    "        mid=c\n",
    "    return mid\n",
    "get_middle(1,2,1)"
   ]
  },
  {
   "cell_type": "code",
   "execution_count": 30,
   "metadata": {},
   "outputs": [
    {
     "data": {
      "text/plain": [
       "(10, 2)"
      ]
     },
     "execution_count": 30,
     "metadata": {},
     "output_type": "execute_result"
    }
   ],
   "source": [
    "def get_f(a,b,c):\n",
    "    ma,mi=0,0\n",
    "    if a<=b:\n",
    "        ma=b\n",
    "        mi=a\n",
    "    else:\n",
    "        ma=a\n",
    "        mi=b\n",
    "    if c>=ma:\n",
    "        ma=c\n",
    "    if c<=mi:\n",
    "        mi=c\n",
    "    return ma,mi\n",
    "get_f(3,10,2)\n",
    "        "
   ]
  },
  {
   "cell_type": "code",
   "execution_count": 36,
   "metadata": {},
   "outputs": [
    {
     "data": {
      "text/plain": [
       "(2, 4, 6)"
      ]
     },
     "execution_count": 36,
     "metadata": {},
     "output_type": "execute_result"
    }
   ],
   "source": [
    "def get_f(a,b,c):\n",
    "    if a<b and b<c:\n",
    "        return 2*a, b*2, c*2\n",
    "    else:\n",
    "        return -a, -b, -c\n",
    "get_f(1,2,3)"
   ]
  },
  {
   "cell_type": "code",
   "execution_count": 55,
   "metadata": {},
   "outputs": [
    {
     "data": {
      "text/plain": [
       "(100, 80)"
      ]
     },
     "execution_count": 55,
     "metadata": {},
     "output_type": "execute_result"
    }
   ],
   "source": [
    "def get_f(a,b,c):\n",
    "    if abs(b-a)< abs(c-a):\n",
    "        return b, abs(a-b)\n",
    "    elif abs(b-a)> abs(c-a):\n",
    "        return c, abs(a-c)\n",
    "    else:\n",
    "        return b, abs(a-c)\n",
    "get_f(20,100,100)"
   ]
  },
  {
   "cell_type": "code",
   "execution_count": 61,
   "metadata": {},
   "outputs": [
    {
     "data": {
      "text/plain": [
       "0"
      ]
     },
     "execution_count": 61,
     "metadata": {},
     "output_type": "execute_result"
    }
   ],
   "source": [
    "def get_f(x,y):\n",
    "    if x==0 and y!=0:\n",
    "        return 1\n",
    "    elif y==0 and x!=0:\n",
    "        return 2\n",
    "    elif x==0 and y==0:\n",
    "        return 0\n",
    "    elif x!=0 and y!=0:\n",
    "        return 3\n",
    "get_f(0,0)\n"
   ]
  },
  {
   "cell_type": "code",
   "execution_count": 67,
   "metadata": {},
   "outputs": [
    {
     "data": {
      "text/plain": [
       "(4, 0)"
      ]
     },
     "execution_count": 67,
     "metadata": {},
     "output_type": "execute_result"
    }
   ],
   "source": [
    "def get_4(x1,y1,x2,y2,x3,y3):\n",
    "    x4=0\n",
    "    y4=0\n",
    "    if x1==x2:\n",
    "        x4=x3\n",
    "    elif x==x3:\n",
    "        x4=x2\n",
    "    elif x1!=x2 and x1!=x3:\n",
    "        x4=x1\n",
    "    if y1==y2:\n",
    "        y4=y3\n",
    "    elif y1==y3:\n",
    "        y4=y2\n",
    "    elif y1!=y2 and y1!=y3:\n",
    "        y4=y1\n",
    "    return x4,y4\n",
    "get_4(0,0,0,2,4,2)\n",
    "    \n",
    "    \n",
    "     "
   ]
  },
  {
   "cell_type": "code",
   "execution_count": 85,
   "metadata": {},
   "outputs": [
    {
     "data": {
      "text/plain": [
       "-1.527611416993639"
      ]
     },
     "execution_count": 85,
     "metadata": {},
     "output_type": "execute_result"
    }
   ],
   "source": [
    "import math\n",
    "\n",
    "def get_fx(x):\n",
    "    F=0\n",
    "    x=x/(0.017)\n",
    "    if x>0:\n",
    "        F=2*(math.sin(x))\n",
    "    else:\n",
    "        F=6-x\n",
    "    return F\n",
    "get_fx(30)\n",
    "        \n",
    "        "
   ]
  },
  {
   "cell_type": "code",
   "execution_count": 86,
   "metadata": {},
   "outputs": [],
   "source": [
    "def get_f(x):\n",
    "    if x>2 or x<-2:\n",
    "        x=x*2\n",
    "    else:\n",
    "        x=-3*x\n",
    "    return x"
   ]
  },
  {
   "cell_type": "code",
   "execution_count": 89,
   "metadata": {},
   "outputs": [],
   "source": [
    "def get_f(x):\n",
    "    if x<=0:\n",
    "        x=-x\n",
    "    elif x>0 and x<2:\n",
    "        x=x**2\n",
    "    elif x>=2:\n",
    "        x=4\n",
    "    return x"
   ]
  },
  {
   "cell_type": "code",
   "execution_count": 101,
   "metadata": {},
   "outputs": [],
   "source": [
    "def get_f(x):\n",
    "    if (x%100==0) and (x%400==0) and (x%4==0):\n",
    "        return 366\n",
    "    else:\n",
    "        return 365"
   ]
  },
  {
   "cell_type": "code",
   "execution_count": 115,
   "metadata": {},
   "outputs": [
    {
     "name": "stdout",
     "output_type": "stream",
     "text": [
      "Отрицательное четное число\n"
     ]
    }
   ],
   "source": [
    "def get_f(x):\n",
    "    if (x%2==0) and x>0:\n",
    "        print('Положительное четное число')\n",
    "    elif (x%2==0) and x<0:\n",
    "        print('Отрицательное четное число')\n",
    "    elif (x%2>0) and x>0:\n",
    "        print('Положительное нечетное число')\n",
    "    elif (x%2>0) and x<0:\n",
    "        print('Отрицательное нечетное число')\n",
    "    elif x==0:\n",
    "        print('Нулевое число')\n",
    "get_f(-903847458974389574398577548375897594758475890470571098589230389034832084092384-238490238409-238490238490238490328490328490328409234807238904732847328473284234756789798573498574908574985790857508458959804504350438509483509483-95-5430-9584390-58409-58438548585854858585438503250-192908099023843284093284048580458975897598758070958210709231740231740923749023490328748731847318473074310401747572985748957438905728956876804380948165014808916689074180674806748076480376087508475087508475589327598075987598475847580238057437508758043298574395775437598047508437575087505804375087872380577580758047580459807587589047580740857577509750843750432)\n",
    "        "
   ]
  },
  {
   "cell_type": "code",
   "execution_count": null,
   "metadata": {},
   "outputs": [],
   "source": [
    "def get_f(x):\n",
    "    if (x%2==0) and (x>9) and (x<100):\n",
    "        print('Двузначное четное число')\n",
    "    elif (x%2==0) and (x<10):\n",
    "        print('Однозначное четное число')\n",
    "    elif (x%2>0) and (x>9) and (x<100):\n",
    "        print('Двузначное нечетное число')\n",
    "    elif (x%2>0) and (x<10):\n",
    "        print('Однозначное нечетное число')\n",
    "    elif (x%2==0) and (x>99) and (x<1000):\n",
    "        print('Трехзначное четное число')"
   ]
  },
  {
   "cell_type": "code",
   "execution_count": null,
   "metadata": {},
   "outputs": [],
   "source": []
  }
 ],
 "metadata": {
  "kernelspec": {
   "display_name": "Python 3",
   "language": "python",
   "name": "python3"
  },
  "language_info": {
   "codemirror_mode": {
    "name": "ipython",
    "version": 3
   },
   "file_extension": ".py",
   "mimetype": "text/x-python",
   "name": "python",
   "nbconvert_exporter": "python",
   "pygments_lexer": "ipython3",
   "version": "3.7.4"
  }
 },
 "nbformat": 4,
 "nbformat_minor": 2
}
